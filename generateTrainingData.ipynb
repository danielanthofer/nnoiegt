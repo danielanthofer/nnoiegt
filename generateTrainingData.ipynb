{
 "metadata": {
  "name": "",
  "signature": "sha256:5623852c9423328ae66969c6873f3d1ad414c9b6e07b4b22e7684ba56c50e5ce"
 },
 "nbformat": 3,
 "nbformat_minor": 0,
 "worksheets": [
  {
   "cells": [
    {
     "cell_type": "code",
     "collapsed": false,
     "input": [
      "# don't forget '/' at the end\n",
      "path_to_Mate_tools = \"external/Mate\\ Tools/\"\n",
      "path_to_JobImText = \"external/collapsing-asl/\"\n",
      "path_to_PropsDE = \"external/PropsDE/props-de/\"\n",
      "\n",
      "path_to_data = \"data/deu_news_2015_10K/\"\n",
      "\n",
      "german_sentences_file_name = path_to_data + \"deu_news_2015_10K-sentences.txt\"\n",
      "german_sentences_without_linenumbers_file_name = path_to_data + \"sentences_without_linenumbers.txt\"\n",
      "tokenized = path_to_data + \"tokenized.conll09\"\n",
      "lemmatized = path_to_data + \"lemmatized.conll09\"\n",
      "parsed = path_to_data + \"parsed.conll09\"\n",
      "parsed_conll06 = path_to_data + \"parsed.conll06\"\n",
      "collapsed_path = path_to_data + \"collapsed.conll06\"\n",
      "collapsed = collapsed_path + \"/parsed.conll\"\n",
      "propsDE_extractions = path_to_data + \"propsDE_extractions.txt\"\n",
      "sentences_processed_by_propsDE = path_to_data + \"sentences_processed_by_propsDE.txt\"\n",
      "sentences_processed_by_propsDE_modified = path_to_data + \"sentences_processed_by_propsDE_modified.txt\"\n",
      "collapsed_modified = collapsed + \".modified\"\n",
      "propsDE_extractions_modified = propsDE_extractions + \".modified\"\n",
      "\n",
      "import subprocess, shlex, re, os"
     ],
     "language": "python",
     "metadata": {},
     "outputs": [],
     "prompt_number": 1
    },
    {
     "cell_type": "heading",
     "level": 3,
     "metadata": {},
     "source": [
      "Remove Line Number from Sentences File"
     ]
    },
    {
     "cell_type": "code",
     "collapsed": false,
     "input": [
      "regex = re.compile(\"^\\d+\\s+\")\n",
      "\n",
      "with open(german_sentences_file_name) as german_sentences_file:\n",
      "    with open(german_sentences_without_linenumbers_file_name, \"w\") as german_sentences_without_linenumbers_file:\n",
      "        for line in german_sentences_file:\n",
      "            line_without_linenumber = regex.sub(\"\", line)\n",
      "            german_sentences_without_linenumbers_file.write(line_without_linenumber)"
     ],
     "language": "python",
     "metadata": {},
     "outputs": [],
     "prompt_number": 2
    },
    {
     "cell_type": "heading",
     "level": 3,
     "metadata": {},
     "source": [
      "Run PropsDE"
     ]
    },
    {
     "cell_type": "markdown",
     "metadata": {},
     "source": [
      "- run PropsDE on sets of 20 sentences.\n",
      "- store each set of sentences for further processing if the PropsDE run has been successful"
     ]
    },
    {
     "cell_type": "code",
     "collapsed": false,
     "input": [
      "# run PropsDE\n",
      "# working directory is important here\n",
      "# skip sentences that cause errors in propsde\n",
      "tempfile_sentences_name = \"tmpfile1\"\n",
      "tempfile_extractions_name = \"tmpfile2\"\n",
      "\n",
      "cmd = \"python parse_props.py\"\n",
      "cmd += \" -t --oie --original ../../../code/\" + tempfile_sentences_name\n",
      "\n",
      "try:\n",
      "    os.remove(propsDE_extractions)\n",
      "    pass\n",
      "except OSError:\n",
      "    pass\n",
      "try:\n",
      "    os.remove(sentences_processed_by_propsDE)\n",
      "    pass\n",
      "except OSError:\n",
      "    pass\n",
      "\n",
      "with open(german_sentences_without_linenumbers_file_name) as sentences:\n",
      "    counter = 0\n",
      "    counter_print = 0\n",
      "    tempfile_sentences = open(tempfile_sentences_name, \"w\")\n",
      "    for sentence in sentences:\n",
      "        tempfile_sentences.write(sentence)\n",
      "        counter += 1\n",
      "        if counter >= 10:\n",
      "            #\n",
      "            #\n",
      "            tempfile_sentences.close()\n",
      "            with open(tempfile_extractions_name, \"w\") as tmp:\n",
      "                process = subprocess.Popen(shlex.split(cmd), stdout = tmp, cwd = path_to_PropsDE)\n",
      "                (stdoutdata, stderrdata) = process.communicate()\n",
      "            \n",
      "            success = False\n",
      "            with open(tempfile_extractions_name) as tmp_extractions_f:\n",
      "                with open(propsDE_extractions, \"a\") as extractions_f:\n",
      "                    with open(sentences_processed_by_propsDE, \"a\") as sentences_f:\n",
      "                        \n",
      "                        # skip first 4 lines\n",
      "                        for i in range(4):\n",
      "                            tmp_extractions_f.readline()\n",
      "                            \n",
      "                        while True:\n",
      "                            line = tmp_extractions_f.readline()\n",
      "                            if len(line) == 0: # end of file or error within PropsDE\n",
      "                                break\n",
      "                                \n",
      "                            sentence = line # expect sentence; keep newline character\n",
      "                            extractions = []\n",
      "                            \n",
      "                            line = tmp_extractions_f.readline().strip('\\n')\n",
      "                            assert len(line) == 0 # expect empty line after sentence\n",
      "                            line = tmp_extractions_f.readline().strip('\\n')\n",
      "                            while len(line) > 0: # expect extractions until newline\n",
      "                                extractions.append(line)\n",
      "                                line = tmp_extractions_f.readline().strip('\\n')\n",
      "                            \n",
      "                            sentences_f.write(sentence)\n",
      "                            extractions_f.write( \";\".join(extractions) + \"\\n\" )\n",
      "\n",
      "            tempfile_sentences = open(tempfile_sentences_name, \"w\")\n",
      "            counter = 0\n",
      "            #\n",
      "            #\n",
      "        counter_print += 1\n",
      "        if (counter_print % 100) == 0 :\n",
      "            print \"progress: \" + str(counter_print/100) + \" %\"\n",
      "\n",
      "if counter != 0:\n",
      "    print \"this should not happen!\"\n",
      "    tempfile_sentences.close()\n",
      "else:\n",
      "    os.remove(tempfile_sentences_name)\n",
      "    os.remove(tempfile_extractions_name)"
     ],
     "language": "python",
     "metadata": {},
     "outputs": [
      {
       "output_type": "stream",
       "stream": "stdout",
       "text": [
        "progress: 1 %\n",
        "progress: 2 %"
       ]
      },
      {
       "output_type": "stream",
       "stream": "stdout",
       "text": [
        "\n",
        "progress: 3 %"
       ]
      },
      {
       "output_type": "stream",
       "stream": "stdout",
       "text": [
        "\n",
        "progress: 4 %"
       ]
      },
      {
       "output_type": "stream",
       "stream": "stdout",
       "text": [
        "\n",
        "progress: 5 %"
       ]
      },
      {
       "output_type": "stream",
       "stream": "stdout",
       "text": [
        "\n",
        "progress: 6 %"
       ]
      },
      {
       "output_type": "stream",
       "stream": "stdout",
       "text": [
        "\n",
        "progress: 7 %"
       ]
      },
      {
       "output_type": "stream",
       "stream": "stdout",
       "text": [
        "\n",
        "progress: 8 %"
       ]
      },
      {
       "output_type": "stream",
       "stream": "stdout",
       "text": [
        "\n",
        "progress: 9 %"
       ]
      },
      {
       "output_type": "stream",
       "stream": "stdout",
       "text": [
        "\n",
        "progress: 10 %"
       ]
      },
      {
       "output_type": "stream",
       "stream": "stdout",
       "text": [
        "\n",
        "progress: 11 %"
       ]
      },
      {
       "output_type": "stream",
       "stream": "stdout",
       "text": [
        "\n",
        "progress: 12 %"
       ]
      },
      {
       "output_type": "stream",
       "stream": "stdout",
       "text": [
        "\n",
        "progress: 13 %"
       ]
      },
      {
       "output_type": "stream",
       "stream": "stdout",
       "text": [
        "\n",
        "progress: 14 %"
       ]
      },
      {
       "output_type": "stream",
       "stream": "stdout",
       "text": [
        "\n",
        "progress: 15 %"
       ]
      },
      {
       "output_type": "stream",
       "stream": "stdout",
       "text": [
        "\n",
        "progress: 16 %"
       ]
      },
      {
       "output_type": "stream",
       "stream": "stdout",
       "text": [
        "\n",
        "progress: 17 %"
       ]
      },
      {
       "output_type": "stream",
       "stream": "stdout",
       "text": [
        "\n",
        "progress: 18 %"
       ]
      },
      {
       "output_type": "stream",
       "stream": "stdout",
       "text": [
        "\n",
        "progress: 19 %"
       ]
      },
      {
       "output_type": "stream",
       "stream": "stdout",
       "text": [
        "\n",
        "progress: 20 %"
       ]
      },
      {
       "output_type": "stream",
       "stream": "stdout",
       "text": [
        "\n",
        "progress: 21 %"
       ]
      },
      {
       "output_type": "stream",
       "stream": "stdout",
       "text": [
        "\n",
        "progress: 22 %"
       ]
      },
      {
       "output_type": "stream",
       "stream": "stdout",
       "text": [
        "\n",
        "progress: 23 %"
       ]
      },
      {
       "output_type": "stream",
       "stream": "stdout",
       "text": [
        "\n",
        "progress: 24 %"
       ]
      },
      {
       "output_type": "stream",
       "stream": "stdout",
       "text": [
        "\n",
        "progress: 25 %"
       ]
      },
      {
       "output_type": "stream",
       "stream": "stdout",
       "text": [
        "\n",
        "progress: 26 %"
       ]
      },
      {
       "output_type": "stream",
       "stream": "stdout",
       "text": [
        "\n",
        "progress: 27 %"
       ]
      },
      {
       "output_type": "stream",
       "stream": "stdout",
       "text": [
        "\n",
        "progress: 28 %"
       ]
      },
      {
       "output_type": "stream",
       "stream": "stdout",
       "text": [
        "\n",
        "progress: 29 %"
       ]
      },
      {
       "output_type": "stream",
       "stream": "stdout",
       "text": [
        "\n",
        "progress: 30 %"
       ]
      },
      {
       "output_type": "stream",
       "stream": "stdout",
       "text": [
        "\n",
        "progress: 31 %"
       ]
      },
      {
       "output_type": "stream",
       "stream": "stdout",
       "text": [
        "\n",
        "progress: 32 %"
       ]
      },
      {
       "output_type": "stream",
       "stream": "stdout",
       "text": [
        "\n",
        "progress: 33 %"
       ]
      },
      {
       "output_type": "stream",
       "stream": "stdout",
       "text": [
        "\n",
        "progress: 34 %"
       ]
      },
      {
       "output_type": "stream",
       "stream": "stdout",
       "text": [
        "\n",
        "progress: 35 %"
       ]
      },
      {
       "output_type": "stream",
       "stream": "stdout",
       "text": [
        "\n",
        "progress: 36 %"
       ]
      },
      {
       "output_type": "stream",
       "stream": "stdout",
       "text": [
        "\n",
        "progress: 37 %"
       ]
      },
      {
       "output_type": "stream",
       "stream": "stdout",
       "text": [
        "\n",
        "progress: 38 %"
       ]
      },
      {
       "output_type": "stream",
       "stream": "stdout",
       "text": [
        "\n",
        "progress: 39 %"
       ]
      },
      {
       "output_type": "stream",
       "stream": "stdout",
       "text": [
        "\n",
        "progress: 40 %"
       ]
      },
      {
       "output_type": "stream",
       "stream": "stdout",
       "text": [
        "\n",
        "progress: 41 %"
       ]
      },
      {
       "output_type": "stream",
       "stream": "stdout",
       "text": [
        "\n",
        "progress: 42 %"
       ]
      },
      {
       "output_type": "stream",
       "stream": "stdout",
       "text": [
        "\n",
        "progress: 43 %"
       ]
      },
      {
       "output_type": "stream",
       "stream": "stdout",
       "text": [
        "\n",
        "progress: 44 %"
       ]
      },
      {
       "output_type": "stream",
       "stream": "stdout",
       "text": [
        "\n",
        "progress: 45 %"
       ]
      },
      {
       "output_type": "stream",
       "stream": "stdout",
       "text": [
        "\n",
        "progress: 46 %"
       ]
      },
      {
       "output_type": "stream",
       "stream": "stdout",
       "text": [
        "\n",
        "progress: 47 %"
       ]
      },
      {
       "output_type": "stream",
       "stream": "stdout",
       "text": [
        "\n",
        "progress: 48 %"
       ]
      },
      {
       "output_type": "stream",
       "stream": "stdout",
       "text": [
        "\n",
        "progress: 49 %"
       ]
      },
      {
       "output_type": "stream",
       "stream": "stdout",
       "text": [
        "\n",
        "progress: 50 %"
       ]
      },
      {
       "output_type": "stream",
       "stream": "stdout",
       "text": [
        "\n",
        "progress: 51 %"
       ]
      },
      {
       "output_type": "stream",
       "stream": "stdout",
       "text": [
        "\n",
        "progress: 52 %"
       ]
      },
      {
       "output_type": "stream",
       "stream": "stdout",
       "text": [
        "\n",
        "progress: 53 %"
       ]
      },
      {
       "output_type": "stream",
       "stream": "stdout",
       "text": [
        "\n",
        "progress: 54 %"
       ]
      },
      {
       "output_type": "stream",
       "stream": "stdout",
       "text": [
        "\n",
        "progress: 55 %"
       ]
      },
      {
       "output_type": "stream",
       "stream": "stdout",
       "text": [
        "\n",
        "progress: 56 %"
       ]
      },
      {
       "output_type": "stream",
       "stream": "stdout",
       "text": [
        "\n",
        "progress: 57 %"
       ]
      },
      {
       "output_type": "stream",
       "stream": "stdout",
       "text": [
        "\n",
        "progress: 58 %"
       ]
      },
      {
       "output_type": "stream",
       "stream": "stdout",
       "text": [
        "\n",
        "progress: 59 %"
       ]
      },
      {
       "output_type": "stream",
       "stream": "stdout",
       "text": [
        "\n",
        "progress: 60 %"
       ]
      },
      {
       "output_type": "stream",
       "stream": "stdout",
       "text": [
        "\n",
        "progress: 61 %"
       ]
      },
      {
       "output_type": "stream",
       "stream": "stdout",
       "text": [
        "\n",
        "progress: 62 %"
       ]
      },
      {
       "output_type": "stream",
       "stream": "stdout",
       "text": [
        "\n",
        "progress: 63 %"
       ]
      },
      {
       "output_type": "stream",
       "stream": "stdout",
       "text": [
        "\n",
        "progress: 64 %"
       ]
      },
      {
       "output_type": "stream",
       "stream": "stdout",
       "text": [
        "\n",
        "progress: 65 %"
       ]
      },
      {
       "output_type": "stream",
       "stream": "stdout",
       "text": [
        "\n",
        "progress: 66 %"
       ]
      },
      {
       "output_type": "stream",
       "stream": "stdout",
       "text": [
        "\n",
        "progress: 67 %"
       ]
      },
      {
       "output_type": "stream",
       "stream": "stdout",
       "text": [
        "\n",
        "progress: 68 %"
       ]
      },
      {
       "output_type": "stream",
       "stream": "stdout",
       "text": [
        "\n",
        "progress: 69 %"
       ]
      },
      {
       "output_type": "stream",
       "stream": "stdout",
       "text": [
        "\n",
        "progress: 70 %"
       ]
      },
      {
       "output_type": "stream",
       "stream": "stdout",
       "text": [
        "\n",
        "progress: 71 %"
       ]
      },
      {
       "output_type": "stream",
       "stream": "stdout",
       "text": [
        "\n",
        "progress: 72 %"
       ]
      },
      {
       "output_type": "stream",
       "stream": "stdout",
       "text": [
        "\n",
        "progress: 73 %"
       ]
      },
      {
       "output_type": "stream",
       "stream": "stdout",
       "text": [
        "\n",
        "progress: 74 %"
       ]
      },
      {
       "output_type": "stream",
       "stream": "stdout",
       "text": [
        "\n",
        "progress: 75 %"
       ]
      },
      {
       "output_type": "stream",
       "stream": "stdout",
       "text": [
        "\n",
        "progress: 76 %"
       ]
      },
      {
       "output_type": "stream",
       "stream": "stdout",
       "text": [
        "\n",
        "progress: 77 %"
       ]
      },
      {
       "output_type": "stream",
       "stream": "stdout",
       "text": [
        "\n",
        "progress: 78 %"
       ]
      },
      {
       "output_type": "stream",
       "stream": "stdout",
       "text": [
        "\n",
        "progress: 79 %"
       ]
      },
      {
       "output_type": "stream",
       "stream": "stdout",
       "text": [
        "\n",
        "progress: 80 %"
       ]
      },
      {
       "output_type": "stream",
       "stream": "stdout",
       "text": [
        "\n",
        "progress: 81 %"
       ]
      },
      {
       "output_type": "stream",
       "stream": "stdout",
       "text": [
        "\n",
        "progress: 82 %"
       ]
      },
      {
       "output_type": "stream",
       "stream": "stdout",
       "text": [
        "\n",
        "progress: 83 %"
       ]
      },
      {
       "output_type": "stream",
       "stream": "stdout",
       "text": [
        "\n",
        "progress: 84 %"
       ]
      },
      {
       "output_type": "stream",
       "stream": "stdout",
       "text": [
        "\n",
        "progress: 85 %"
       ]
      },
      {
       "output_type": "stream",
       "stream": "stdout",
       "text": [
        "\n",
        "progress: 86 %"
       ]
      },
      {
       "output_type": "stream",
       "stream": "stdout",
       "text": [
        "\n",
        "progress: 87 %"
       ]
      },
      {
       "output_type": "stream",
       "stream": "stdout",
       "text": [
        "\n",
        "progress: 88 %"
       ]
      },
      {
       "output_type": "stream",
       "stream": "stdout",
       "text": [
        "\n",
        "progress: 89 %"
       ]
      },
      {
       "output_type": "stream",
       "stream": "stdout",
       "text": [
        "\n",
        "progress: 90 %"
       ]
      },
      {
       "output_type": "stream",
       "stream": "stdout",
       "text": [
        "\n",
        "progress: 91 %"
       ]
      },
      {
       "output_type": "stream",
       "stream": "stdout",
       "text": [
        "\n",
        "progress: 92 %"
       ]
      },
      {
       "output_type": "stream",
       "stream": "stdout",
       "text": [
        "\n",
        "progress: 93 %"
       ]
      },
      {
       "output_type": "stream",
       "stream": "stdout",
       "text": [
        "\n",
        "progress: 94 %"
       ]
      },
      {
       "output_type": "stream",
       "stream": "stdout",
       "text": [
        "\n",
        "progress: 95 %"
       ]
      },
      {
       "output_type": "stream",
       "stream": "stdout",
       "text": [
        "\n",
        "progress: 96 %"
       ]
      },
      {
       "output_type": "stream",
       "stream": "stdout",
       "text": [
        "\n",
        "progress: 97 %"
       ]
      },
      {
       "output_type": "stream",
       "stream": "stdout",
       "text": [
        "\n",
        "progress: 98 %"
       ]
      },
      {
       "output_type": "stream",
       "stream": "stdout",
       "text": [
        "\n",
        "progress: 99 %"
       ]
      },
      {
       "output_type": "stream",
       "stream": "stdout",
       "text": [
        "\n"
       ]
      }
     ],
     "prompt_number": 3
    },
    {
     "cell_type": "heading",
     "level": 3,
     "metadata": {},
     "source": [
      "Run Mate Tools"
     ]
    },
    {
     "cell_type": "code",
     "collapsed": false,
     "input": [
      "#remove \u201e \"\\u201E\"\n",
      "\n",
      "import codecs\n",
      "\n",
      "source = codecs.open(sentences_processed_by_propsDE, encoding='utf-8')\n",
      "target = codecs.open(sentences_processed_by_propsDE_modified, encoding='utf-8', mode = \"w\")\n",
      "for line in source:\n",
      "    target.write(line.replace(u\"\u201e\", \" \"))\n",
      "source.close()\n",
      "target.close()"
     ],
     "language": "python",
     "metadata": {},
     "outputs": [],
     "prompt_number": 4
    },
    {
     "cell_type": "code",
     "collapsed": false,
     "input": [
      "# tokenize : single line for each token, including punctuation\n",
      "#java -cp transition-1.30.jar is2.util.Split testrun/germantesttext.txt > testrun/one-word-per-line.txt \n",
      "\n",
      "cmd = \"java -cp \" + path_to_Mate_tools + \"transition-1.30.jar is2.util.Split \"\n",
      "cmd += sentences_processed_by_propsDE_modified\n",
      "with open(tokenized, \"w\") as tmp:\n",
      "    process = subprocess.Popen(shlex.split(cmd), stdout = tmp)\n",
      "    (stdoutdata, stderrdata) = process.communicate()"
     ],
     "language": "python",
     "metadata": {},
     "outputs": [],
     "prompt_number": 5
    },
    {
     "cell_type": "code",
     "collapsed": false,
     "input": [
      "# lemmatize\n",
      "model_file = \"lemma-ger-3.6.model\"\n",
      "cmd = \"java -Xmx2G -cp \" + path_to_Mate_tools + \"transition-1.30.jar is2.lemmatizer.Lemmatizer\"\n",
      "cmd += \" -model \" + path_to_Mate_tools + \"models/\" + model_file\n",
      "cmd += \" -test \" + tokenized\n",
      "cmd += \" -out \" + lemmatized\n",
      "subprocess.call(shlex.split(cmd))"
     ],
     "language": "python",
     "metadata": {},
     "outputs": [
      {
       "metadata": {},
       "output_type": "pyout",
       "prompt_number": 6,
       "text": [
        "0"
       ]
      }
     ],
     "prompt_number": 6
    },
    {
     "cell_type": "code",
     "collapsed": false,
     "input": [
      "# tag and parse\n",
      "model_file = \"pet-ger-S2a-40-0.25-0.1-2-2-ht4-hm4-kk0\"\n",
      "cmd = \"java -Xmx3G -cp \" + path_to_Mate_tools + \"transition-1.30.jar is2.transitionS2a.Parser\"\n",
      "cmd += \" -model \" + path_to_Mate_tools + \"models/\" + model_file\n",
      "cmd += \" -test \" + lemmatized\n",
      "cmd += \" -out \" + parsed\n",
      "subprocess.call(shlex.split(cmd))"
     ],
     "language": "python",
     "metadata": {},
     "outputs": [
      {
       "metadata": {},
       "output_type": "pyout",
       "prompt_number": 7,
       "text": [
        "0"
       ]
      }
     ],
     "prompt_number": 7
    },
    {
     "cell_type": "heading",
     "level": 3,
     "metadata": {},
     "source": [
      "Run JobImText"
     ]
    },
    {
     "cell_type": "markdown",
     "metadata": {},
     "source": [
      "- requires collapsing rules for german, see http://ltmaggie.informatik.uni-hamburg.de/jobimtext/components/dependency-collapsing/\n",
      "- org.jobimtext.collapsing.jar can be found within collapsing-asl.zip\n",
      "- we use modified collapsing rules from PropsDE\n",
      "- conll06 data format see http://www.clips.ua.ac.be/conll2006/pdf/14964.pdf"
     ]
    },
    {
     "cell_type": "code",
     "collapsed": false,
     "input": [
      "# transform to conll06\n",
      "# - do the same as PropsDE\n",
      "with open(parsed) as conll09file:\n",
      "    with open(parsed_conll06, \"w\") as conll06file:\n",
      "        for line in conll09file:\n",
      "            columns = line.strip().split(\"\\t\")\n",
      "            if len(columns) != 14:\n",
      "                conll06file.write(line)\n",
      "            else:\n",
      "                new_columns = columns[0:2] + columns[3:4] + columns[5:6] + columns[5:7] + columns[9:10] + columns[11:14]\n",
      "                new_line = \"\\t\".join(new_columns) + \"\\n\"\n",
      "                conll06file.write(new_line)"
     ],
     "language": "python",
     "metadata": {},
     "outputs": [],
     "prompt_number": 8
    },
    {
     "cell_type": "code",
     "collapsed": false,
     "input": [
      "# collapse dependencies\n",
      "collapsing_rules_file = path_to_PropsDE + \"ext/resources/german_modified.txt\"\n",
      "cmd = \"java -jar \" + path_to_JobImText + \"org.jobimtext.collapsing.jar\"\n",
      "cmd += \" -i \" + parsed_conll06 # input file\n",
      "cmd += \" -o \" + collapsed_path # output file\n",
      "cmd += \" -sf\" # process single file instead of folder\n",
      "cmd += \" -l de\" # german language\n",
      "cmd += \" -r \" + collapsing_rules_file #rule file\n",
      "cmd += \" -f c\" #input file format is conll\n",
      "cmd += \" -np\" # no parsing -- already parsed\n",
      "cmd += \" -nt\" # no tagging -- already tagged\n",
      "#cmd += \" -depout\" # write stanford dependencies style output instead of conll\n",
      "#cmd += \" -addpos\" # write POS tags to dependency output\n",
      "subprocess.call(shlex.split(cmd))"
     ],
     "language": "python",
     "metadata": {},
     "outputs": [
      {
       "metadata": {},
       "output_type": "pyout",
       "prompt_number": 9,
       "text": [
        "0"
       ]
      }
     ],
     "prompt_number": 9
    },
    {
     "cell_type": "heading",
     "level": 3,
     "metadata": {},
     "source": [
      "Modify Graph File"
     ]
    },
    {
     "cell_type": "markdown",
     "metadata": {},
     "source": [
      "- remove unnecessary columns"
     ]
    },
    {
     "cell_type": "code",
     "collapsed": false,
     "input": [
      "conll06_ID = 0\n",
      "conll06_FORM = 1\n",
      "conll06_LEMMA = 2\n",
      "conll06_CPOSTAG = 3\n",
      "conll06_POSTAG = 4\n",
      "conll06_FEATS = 5\n",
      "conll06_HEAD_ID = 6\n",
      "conll06_DEPREL = 7\n",
      "conll06_PHEAD = 8\n",
      "conll06_PDEPREL = 9\n",
      "\n",
      "elements_of_interest = [ conll06_ID, conll06_FORM,\n",
      "                        conll06_LEMMA, conll06_POSTAG,\n",
      "                        conll06_HEAD_ID, conll06_DEPREL]\n"
     ],
     "language": "python",
     "metadata": {},
     "outputs": [],
     "prompt_number": 10
    },
    {
     "cell_type": "code",
     "collapsed": false,
     "input": [
      "largest_graph = 0\n",
      "with open(collapsed) as src:\n",
      "    with open(collapsed_modified, \"w\") as target:\n",
      "        for src_line in src:\n",
      "            src_elems = src_line.split('\\t')\n",
      "            if len(src_elems) == 1:\n",
      "                target.write(\"\\n\")\n",
      "            else:\n",
      "                target_elems = [ src_elems[i] for i in elements_of_interest ]\n",
      "                target_line = '\\t'.join(target_elems)\n",
      "                target.write(target_line + \"\\n\")\n",
      "                graph_size = int(target_elems[0])\n",
      "                if graph_size > largest_graph:\n",
      "                    largest_graph = graph_size\n",
      "print(\"largest graph: \" + str(largest_graph))"
     ],
     "language": "python",
     "metadata": {},
     "outputs": [
      {
       "output_type": "stream",
       "stream": "stdout",
       "text": [
        "largest graph: 52\n"
       ]
      }
     ],
     "prompt_number": 11
    },
    {
     "cell_type": "code",
     "collapsed": false,
     "input": [
      "i_ID = 0\n",
      "i_FORM = 1\n",
      "i_LEMMA = 2\n",
      "i_POSTAG = 3\n",
      "i_HEAD_ID = 4\n",
      "i_DEPREL = 5"
     ],
     "language": "python",
     "metadata": {},
     "outputs": [],
     "prompt_number": 12
    },
    {
     "cell_type": "heading",
     "level": 3,
     "metadata": {},
     "source": [
      "Modify Extractions File"
     ]
    },
    {
     "cell_type": "markdown",
     "metadata": {},
     "source": [
      "- separate ':', '(', ')', ';' for simpler tokenization"
     ]
    },
    {
     "cell_type": "code",
     "collapsed": false,
     "input": [
      "import codecs\n",
      "\n",
      "regex_prep2 = re.compile(\"(prep_)(\\S+?)\", re.U) # transform any \"prep_label\" to \"prep_ label\"\n",
      "regex_conj2 = re.compile(\"(conj_)(\\S+?)\", re.U) # transform any \"conj_label\" to \"conj_ label\"\n",
      "regex = re.compile(\"(\\s+(?:(?::\\()|,)\\s+\\S+?):\\s*(\\S+)\", re.U) # match \" :( label:text\" or \", label:text\"\n",
      "regex_dobj = re.compile(\"([0-9A-Za-z]+)(,\\s+dobj):\\s*(\\S+)\", re.U)\n",
      "regex_prep = re.compile(\"(prep_\\s(?:\\S+?)):(\\S+)\", re.U) # match \"prep_ label:text\", e.g. \"prep_ im:ganzen Land\"\n",
      "regex_conj = re.compile(\"(conj_\\s(?:\\S+?)):(\\S+)\", re.U)\n",
      "\n",
      "src = codecs.open(propsDE_extractions, encoding='utf-8')\n",
      "target = codecs.open(propsDE_extractions_modified, encoding='utf-8', mode = \"w\")\n",
      "\n",
      "for line in src:\n",
      "    for separator in [':(', ');'] :\n",
      "        elems = line.split(separator)\n",
      "        if len(elems) > 1:\n",
      "            new_sep = \" \" + separator + \" \"\n",
      "            line = new_sep.join(elems)\n",
      "    line = line.replace(u\"\u201e\", \" \")\n",
      "    line = re.sub(regex_prep2, \"\\\\1 \\\\2\", line)\n",
      "    line = re.sub(regex_conj2, \"\\\\1 \\\\2\", line)\n",
      "    line = re.sub(regex_dobj, \"\\\\1 \\\\2 :: \\\\3\", line)\n",
      "    line = re.sub(regex, \"\\\\1 :: \\\\2\",line)\n",
      "    line = re.sub(regex_prep, \"\\\\1 :: \\\\2\",line)\n",
      "    line = re.sub(regex_conj, \"\\\\1 :: \\\\2\",line)\n",
      "    #normalize whitespaces\n",
      "    line = \" \".join(line.split())\n",
      "    target.write(line + \";\\n\")\n",
      "src.close()\n",
      "target.close()"
     ],
     "language": "python",
     "metadata": {},
     "outputs": [],
     "prompt_number": 13
    },
    {
     "cell_type": "code",
     "collapsed": false,
     "input": [],
     "language": "python",
     "metadata": {},
     "outputs": [],
     "prompt_number": 13
    }
   ],
   "metadata": {}
  }
 ]
}